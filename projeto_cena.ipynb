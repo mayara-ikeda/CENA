{
 "cells": [
  {
   "cell_type": "markdown",
   "metadata": {},
   "source": [
    "### Import de bibliotecas"
   ]
  },
  {
   "cell_type": "code",
   "execution_count": 2,
   "metadata": {},
   "outputs": [],
   "source": [
    "# brew services start mysql\n",
    "#!/usr/bin/env python3\n",
    "# mysql -u root -p\n",
    "\n",
    "import pandas as pd\n",
    "import mysql.connector\n",
    "import requests\n",
    "import time\n",
    "import random\n",
    "import matplotlib.pyplot as pt\n",
    "import numpy as np\n"
   ]
  },
  {
   "cell_type": "markdown",
   "metadata": {},
   "source": [
    "### Definindo Funções"
   ]
  },
  {
   "cell_type": "code",
   "execution_count": 3,
   "metadata": {},
   "outputs": [],
   "source": [
    "def abrir_dispenser():\n",
    "    print('abrindo o dispenser...')\n",
    "    #dispenser.write(b'abrir\\n')\n",
    "    time.sleep(1)\n",
    "\n",
    "def fechar_dispenser():\n",
    "    print('dispenser fechado')\n",
    "    #dispenser.write(b'fechar\\n')\n",
    "    time.sleep(1)"
   ]
  },
  {
   "cell_type": "markdown",
   "metadata": {},
   "source": [
    "### Pesagem e Cálculo da Sobra"
   ]
  },
  {
   "cell_type": "code",
   "execution_count": 4,
   "metadata": {},
   "outputs": [
    {
     "name": "stdout",
     "output_type": "stream",
     "text": [
      "A balança aferiu uma sobra de 258.98g\n",
      "O peso da reposição será de: 41.0g.\n",
      "abrindo o dispenser...\n",
      "Peso atual do comedouro em: 260.0 gm.  🐔\n",
      "Peso atual do comedouro em: 261.0 gm.  🌽🐔\n",
      "Peso atual do comedouro em: 262.0 gm.  🌽🐔\n",
      "Peso atual do comedouro em: 263.0 gm.  🌽🐔\n",
      "Peso atual do comedouro em: 264.0 gm.  🌽🌽🐔\n",
      "Peso atual do comedouro em: 265.0 gm.  🌽🌽🐔\n",
      "Peso atual do comedouro em: 266.0 gm.  🌽🌽🐔\n",
      "Peso atual do comedouro em: 267.0 gm.  🌽🌽🌽🐔\n",
      "Peso atual do comedouro em: 268.0 gm.  🌽🌽🌽🐔\n",
      "Peso atual do comedouro em: 269.0 gm.  🌽🌽🌽🐔\n",
      "Peso atual do comedouro em: 270.0 gm.  🌽🌽🌽🌽🐔\n",
      "Peso atual do comedouro em: 271.0 gm.  🌽🌽🌽🌽🐔\n",
      "Peso atual do comedouro em: 272.0 gm.  🌽🌽🌽🌽🐔\n",
      "Peso atual do comedouro em: 273.0 gm.  🌽🌽🌽🌽🌽🐔\n",
      "Peso atual do comedouro em: 274.0 gm.  🌽🌽🌽🌽🌽🐔\n",
      "Peso atual do comedouro em: 275.0 gm.  🌽🌽🌽🌽🌽🐔\n",
      "Peso atual do comedouro em: 276.0 gm.  🌽🌽🌽🌽🌽🌽🐔\n",
      "Peso atual do comedouro em: 277.0 gm.  🌽🌽🌽🌽🌽🌽🐔\n",
      "Peso atual do comedouro em: 278.0 gm.  🌽🌽🌽🌽🌽🌽🐔\n",
      "Peso atual do comedouro em: 279.0 gm.  🌽🌽🌽🌽🌽🌽🌽🐔\n",
      "Peso atual do comedouro em: 280.0 gm.  🌽🌽🌽🌽🌽🌽🌽🐔\n",
      "Peso atual do comedouro em: 281.0 gm.  🌽🌽🌽🌽🌽🌽🌽🐔\n",
      "Peso atual do comedouro em: 282.0 gm.  🌽🌽🌽🌽🌽🌽🌽🌽🐔\n",
      "Peso atual do comedouro em: 283.0 gm.  🌽🌽🌽🌽🌽🌽🌽🌽🐔\n",
      "Peso atual do comedouro em: 284.0 gm.  🌽🌽🌽🌽🌽🌽🌽🌽🐔\n",
      "Peso atual do comedouro em: 285.0 gm.  🌽🌽🌽🌽🌽🌽🌽🌽🌽🐔\n",
      "Peso atual do comedouro em: 286.0 gm.  🌽🌽🌽🌽🌽🌽🌽🌽🌽🐔\n",
      "Peso atual do comedouro em: 287.0 gm.  🌽🌽🌽🌽🌽🌽🌽🌽🌽🐔\n",
      "Peso atual do comedouro em: 288.0 gm.  🌽🌽🌽🌽🌽🌽🌽🌽🌽🌽🐔\n",
      "Peso atual do comedouro em: 289.0 gm.  🌽🌽🌽🌽🌽🌽🌽🌽🌽🌽🐔\n",
      "Peso atual do comedouro em: 290.0 gm.  🌽🌽🌽🌽🌽🌽🌽🌽🌽🌽🐔\n",
      "Peso atual do comedouro em: 291.0 gm.  🌽🌽🌽🌽🌽🌽🌽🌽🌽🌽🌽🐔\n",
      "Peso atual do comedouro em: 292.0 gm.  🌽🌽🌽🌽🌽🌽🌽🌽🌽🌽🌽🐔\n",
      "Peso atual do comedouro em: 293.0 gm.  🌽🌽🌽🌽🌽🌽🌽🌽🌽🌽🌽🐔\n",
      "Peso atual do comedouro em: 294.0 gm.  🌽🌽🌽🌽🌽🌽🌽🌽🌽🌽🌽🌽🐔\n",
      "Peso atual do comedouro em: 295.0 gm.  🌽🌽🌽🌽🌽🌽🌽🌽🌽🌽🌽🌽🐔\n",
      "Peso atual do comedouro em: 296.0 gm.  🌽🌽🌽🌽🌽🌽🌽🌽🌽🌽🌽🌽🐔\n",
      "Peso atual do comedouro em: 297.0 gm.  🌽🌽🌽🌽🌽🌽🌽🌽🌽🌽🌽🌽🌽🐔\n",
      "Peso atual do comedouro em: 298.0 gm.  🌽🌽🌽🌽🌽🌽🌽🌽🌽🌽🌽🌽🌽🐔\n",
      "Peso atual do comedouro em: 299.0 gm.  🌽🌽🌽🌽🌽🌽🌽🌽🌽🌽🌽🌽🌽🐔\n",
      "Peso atual do comedouro em: 300.0 gm.  🌽🌽🌽🌽🌽🌽🌽🌽🌽🌽🌽🌽🌽🌽🐔\n",
      "\n",
      "> COMEDOURO ABASTECIDO COM SUCESSO <\n",
      "\n",
      "dispenser fechado\n"
     ]
    }
   ],
   "source": [
    "peso_da_sobra = round(random.uniform(100,300), 2) #recebe informação de uma balança (simulação)\n",
    "print(f'A balança aferiu uma sobra de {peso_da_sobra}g')\n",
    "\n",
    "peso_dieta_ideal = 300\n",
    "\n",
    "ajust = 1-(peso_da_sobra - int(peso_da_sobra))\n",
    "peso_da_sobra_ajust = peso_da_sobra + ajust\n",
    "\n",
    "peso_da_reposicao = peso_dieta_ideal - peso_da_sobra_ajust\n",
    "time.sleep(3)\n",
    "print(f\"O peso da reposição será de: {peso_da_reposicao}g.\")\n",
    "time.sleep(3)\n",
    "\n",
    "peso_inicial = peso_da_sobra_ajust\n",
    "i=1\n",
    "pontos = \"\"\n",
    "\n",
    "abrir_dispenser()\n",
    "\n",
    "while peso_inicial < peso_dieta_ideal:\n",
    "    peso_inicial += 1\n",
    "    i += 1\n",
    "    if i % 3 == 0:\n",
    "        pontos += \"🌽\"\n",
    "    else:\n",
    "        pontos += \"\"\n",
    "    \n",
    "    time.sleep(0.1)\n",
    "    print(f\"Peso atual do comedouro em: {peso_inicial} gm.  {pontos}🐔\")\n",
    "\n",
    "\n",
    "time.sleep(3)\n",
    "print(\"\")\n",
    "print(\"> COMEDOURO ABASTECIDO COM SUCESSO <\")\n",
    "print(\"\")\n",
    "\n",
    "fechar_dispenser()"
   ]
  },
  {
   "cell_type": "code",
   "execution_count": 6,
   "metadata": {},
   "outputs": [
    {
     "name": "stdout",
     "output_type": "stream",
     "text": [
      "Error while connecting to MySQL: 1045 (28000): Access denied for user 'root'@'localhost' (using password: YES)\n"
     ]
    }
   ],
   "source": [
    "\n",
    "try:\n",
    "    connection = mysql.connector.connect(\n",
    "        host=\"localhost\",\n",
    "        user=\"root\",\n",
    "        password=\"*******\",\n",
    "        database=\"db_avicultura_proj\"\n",
    "    )\n",
    "\n",
    "    if connection.is_connected():\n",
    "        \n",
    "        print(\"Connected to MySQL!\")\n",
    "\n",
    "        cursor = connection.cursor()\n",
    "\n",
    "        # # Input de dados do dia\n",
    "        # query = f'INSERT INTO sobras (date,time,sobra,reposicao) VALUES(\"2024-11-21\",\"08:30:00\",\"{peso_da_sobra_ajust}\",\"{peso_da_reposicao}\")'\n",
    "        # cursor.execute(query)\n",
    "        # connection.commit()\n",
    "        \n",
    "        query2 = f'SELECT * FROM sobras'\n",
    "        cursor.execute(query2)\n",
    "        rows = cursor.fetchall()\n",
    "        \n",
    "        column_names = [description[0] for description in cursor.description]\n",
    "\n",
    "        \n",
    "        df = pd.DataFrame(rows, columns=column_names)\n",
    "        print(df)\n",
    "        pt.figure(figsize=(9, 4)) \n",
    "        pt.bar(df['date'],df['sobra'], label='dados')\n",
    "        pt.xlabel('data')\n",
    "        pt.ylabel('sobra em gm')\n",
    "        pt.title('Relatório de sobras x Data')\n",
    "        pt.show()\n",
    "        \n",
    "        pt.figure(figsize=(9, 4)) \n",
    "        pt.bar(df['date'],df['reposicao'], label='dados')\n",
    "        pt.xlabel('data')\n",
    "        pt.ylabel('sobra em gm')\n",
    "        pt.title('Relatório de reposições x Data')\n",
    "        pt.show()\n",
    "\n",
    "        \n",
    "except mysql.connector.Error as err:\n",
    "    print(\"Error while connecting to MySQL:\", err)\n",
    "\n"
   ]
  }
 ],
 "metadata": {
  "kernelspec": {
   "display_name": "Python 3",
   "language": "python",
   "name": "python3"
  },
  "language_info": {
   "codemirror_mode": {
    "name": "ipython",
    "version": 3
   },
   "file_extension": ".py",
   "mimetype": "text/x-python",
   "name": "python",
   "nbconvert_exporter": "python",
   "pygments_lexer": "ipython3",
   "version": "3.12.7"
  }
 },
 "nbformat": 4,
 "nbformat_minor": 2
}
